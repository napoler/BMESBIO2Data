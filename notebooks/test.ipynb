{
 "metadata": {
  "language_info": {
   "codemirror_mode": {
    "name": "ipython",
    "version": 3
   },
   "file_extension": ".py",
   "mimetype": "text/x-python",
   "name": "python",
   "nbconvert_exporter": "python",
   "pygments_lexer": "ipython3",
   "version": "3.8.5-final"
  },
  "orig_nbformat": 2,
  "kernelspec": {
   "name": "python3",
   "display_name": "Python 3.8.5 64-bit",
   "metadata": {
    "interpreter": {
     "hash": "767d51c1340bd893661ea55ea3124f6de3c7a262a8b4abca0554b478b1e2ff90"
    }
   }
  }
 },
 "nbformat": 4,
 "nbformat_minor": 2,
 "cells": [
  {
   "cell_type": "code",
   "execution_count": 1,
   "metadata": {},
   "outputs": [],
   "source": [
    "#encoding=utf-8\n",
    "from __future__ import unicode_literals\n",
    "import sys"
   ]
  },
  {
   "cell_type": "code",
   "execution_count": 2,
   "metadata": {},
   "outputs": [],
   "source": [
    "# 切换到上级目录\n",
    "sys.path.append(\"../\")\n",
    "# 引入本地库\n",
    "import BMESBIO2Data\n"
   ]
  },
  {
   "cell_type": "code",
   "execution_count": 3,
   "metadata": {},
   "outputs": [],
   "source": [
    "M2D=BMESBIO2Data.BMESBIO2Data(\"BMES\")"
   ]
  },
  {
   "cell_type": "code",
   "execution_count": 4,
   "metadata": {
    "tags": [
     "outputPrepend"
    ]
   },
   "outputs": [
    {
     "output_type": "stream",
     "name": "stdout",
     "text": [
      "': ['营', '养', '不', '良'], 'start': 18, 'end': 21}, {'type': '适应症', 'word': ['妊', '娠'], 'start': 23, 'end': 24}, {'type': '适应症', 'word': ['儿', '童', '发', '育', '期'], 'start': 26, 'end': 30}, {'type': '适应症', 'word': ['缺', '铁', '性', '贫', '血'], 'start': 36, 'end': 40}])\n(['【', '禁', '忌', '证', '】', '⑴', '对', '本', '品', '过', '敏', '者', '禁', '用', '。'], [{'type': '禁忌症', 'word': ['对', '本', '品', '过', '敏'], 'start': 6, 'end': 10}])\n(['⑵', '肝', '肾', '功', '能', '严', '重', '损', '害', '，', '尤', '其', '是', '伴', '有', '未', '经', '治', '疗', '的', '尿', '路', '感', '染', '者', '禁', '用', '。'], [{'type': '禁忌症', 'word': ['肝', '肾', '功', '能', '严', '重', '损', '害'], 'start': 1, 'end': 8}, {'type': '禁忌症', 'word': ['尿', '路', '感', '染'], 'start': 20, 'end': 23}])\n(['⑶', '铁', '负', '荷', '过', '高', '、', '血', '色', '病', '或', '含', '铁', '血', '黄', '素', '沉', '着', '症', '患', '者', '禁', '用', '。'], [{'type': '禁忌症', 'word': ['铁', '负', '荷', '过', '高'], 'start': 1, 'end': 5}, {'type': '禁忌症', 'word': ['血', '色', '病'], 'start': 7, 'end': 9}, {'type': '禁忌症', 'word': ['含', '铁', '血', '黄', '素', '沉', '着', '症'], 'start': 11, 'end': 18}])\n(['(', '4', ')', '非', '缺', '铁', '性', '贫', '血', '(', '如', '地', '中', '海', '贫', '血', ')', '患', '者', '禁', '用', '。'], [{'type': '禁忌症', 'word': ['非', '缺', '铁', '性', '贫', '血'], 'start': 3, 'end': 8}, {'type': '禁忌症', 'word': ['地', '中', '海', '贫', '血'], 'start': 11, 'end': 15}])\n(['【', '不', '良', '反', '应', '】', '⑴', '可', '见', '胃', '肠', '道', '不', '良', '反', '应', '，', '如', '恶', '心', '、', '呕', '吐', '、', '上', '腹', '疼', '痛', '、', '便', '秘', '。'], [{'type': '不良反应', 'word': ['恶', '心'], 'start': 18, 'end': 19}, {'type': '不良反应', 'word': ['呕', '吐'], 'start': 21, 'end': 22}, {'type': '不良反应', 'word': ['上', '腹', '疼', '痛'], 'start': 24, 'end': 27}, {'type': '不良反应', 'word': ['便', '秘'], 'start': 29, 'end': 30}])\n(['⑵', '本', '品', '可', '减', '少', '肠', '蠕', '动', '，', '引', '起', '便', '秘', '，', '并', '排', '黑', '便', '。'], [{'type': '不良反应', 'word': ['便', '秘'], 'start': 12, 'end': 13}, {'type': '不良反应', 'word': ['黑', '便'], 'start': 17, 'end': 18}])\n"
     ]
    }
   ],
   "source": [
    "print(\"ssd\")\n",
    "Demo =M2D.file2Data(\"/home/terry/dev/ChineseAnnotator/test.txt\")"
   ]
  },
  {
   "cell_type": "code",
   "execution_count": null,
   "metadata": {},
   "outputs": [],
   "source": []
  }
 ]
}